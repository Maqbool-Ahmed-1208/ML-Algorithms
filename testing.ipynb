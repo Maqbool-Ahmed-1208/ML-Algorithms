{
 "cells": [
  {
   "cell_type": "code",
   "execution_count": null,
   "metadata": {
    "colab": {
     "base_uri": "https://localhost:8080/"
    },
    "executionInfo": {
     "elapsed": 2226,
     "status": "ok",
     "timestamp": 1759168026712,
     "user": {
      "displayName": "Maqbool Ahmed",
      "userId": "09434991501824810850"
     },
     "user_tz": -300
    },
    "id": "pFbrjmOW6egk",
    "outputId": "f9d6bac8-4d0d-48b9-ef44-35e510509085"
   },
   "outputs": [],
   "source": [
    "from ucimlrepo import fetch_ucirepo\n",
    "\n",
    "# fetch dataset\n",
    "predict_students_dropout_and_academic_success = fetch_ucirepo(id=697)\n",
    "\n",
    "# data (as pandas dataframes)\n",
    "x = predict_students_dropout_and_academic_success.data.features\n",
    "y = predict_students_dropout_and_academic_success.data.targets\n",
    "\n",
    "# metadata\n",
    "print(predict_students_dropout_and_academic_success.metadata)\n",
    "\n",
    "# variable information\n",
    "print(predict_students_dropout_and_academic_success.variables)\n"
   ]
  },
  {
   "cell_type": "code",
   "execution_count": null,
   "metadata": {
    "executionInfo": {
     "elapsed": 12,
     "status": "ok",
     "timestamp": 1759168026733,
     "user": {
      "displayName": "Maqbool Ahmed",
      "userId": "09434991501824810850"
     },
     "user_tz": -300
    },
    "id": "aohHJei66k4x"
   },
   "outputs": [],
   "source": [
    "import pandas as pd\n",
    "\n",
    "df = pd.merge(x, y, left_index=True, right_index=True)"
   ]
  },
  {
   "cell_type": "code",
   "execution_count": null,
   "metadata": {
    "colab": {
     "base_uri": "https://localhost:8080/",
     "height": 496
    },
    "executionInfo": {
     "elapsed": 15,
     "status": "ok",
     "timestamp": 1759168026754,
     "user": {
      "displayName": "Maqbool Ahmed",
      "userId": "09434991501824810850"
     },
     "user_tz": -300
    },
    "id": "cr2Lq_4WjhgT",
    "outputId": "6b27dc7e-c32d-40c5-c15a-3632255ff0f2"
   },
   "outputs": [],
   "source": [
    "df"
   ]
  },
  {
   "cell_type": "code",
   "execution_count": null,
   "metadata": {
    "executionInfo": {
     "elapsed": 4,
     "status": "ok",
     "timestamp": 1759168028199,
     "user": {
      "displayName": "Maqbool Ahmed",
      "userId": "09434991501824810850"
     },
     "user_tz": -300
    },
    "id": "xqiAmdtv6qNy"
   },
   "outputs": [],
   "source": [
    "# from app.data_preprocessing.preprocessor import encoding\n",
    "\n",
    "# df = encoding(df)\n",
    "# df"
   ]
  },
  {
   "cell_type": "code",
   "execution_count": null,
   "metadata": {
    "colab": {
     "base_uri": "https://localhost:8080/",
     "height": 424
    },
    "executionInfo": {
     "elapsed": 57,
     "status": "ok",
     "timestamp": 1759168091669,
     "user": {
      "displayName": "Maqbool Ahmed",
      "userId": "09434991501824810850"
     },
     "user_tz": -300
    },
    "id": "nBK4dEoLki5R",
    "outputId": "b6687cdd-7600-48f4-bbf8-a326519d1de9"
   },
   "outputs": [],
   "source": []
  },
  {
   "cell_type": "code",
   "execution_count": null,
   "metadata": {},
   "outputs": [],
   "source": [
    "df"
   ]
  },
  {
   "cell_type": "code",
   "execution_count": 1,
   "metadata": {
    "id": "TvNCEhtykmoh"
   },
   "outputs": [],
   "source": [
    "from app.algorithms.regression.linear_regression import linear_regression\n",
    "from app.algorithms.regression.logistic_regression import logistic_regression\n",
    "import pandas as pd\n",
    "df = pd.read_csv(\"datasets/CARS.csv\").drop(columns='Unnamed: 5')\n",
    "# x = df.drop(columns=\"Target\")\n",
    "# y = df[\"Target\"].map({\"Dropout\": 0, \"Enrolled\": 1, \"Graduate\" : 2})\n",
    "# independent variable\n",
    "x = df[['Volume', 'Weight']]\n",
    "\n",
    "# dependent variable (predicting CO2)\n",
    "y = df[['CO2']]"
   ]
  },
  {
   "cell_type": "code",
   "execution_count": 2,
   "metadata": {},
   "outputs": [
    {
     "name": "stdout",
     "output_type": "stream",
     "text": [
      "<class 'pandas.core.frame.DataFrame'>\n",
      "RangeIndex: 36 entries, 0 to 35\n",
      "Data columns (total 5 columns):\n",
      " #   Column  Non-Null Count  Dtype \n",
      "---  ------  --------------  ----- \n",
      " 0   Car     36 non-null     object\n",
      " 1   Model   36 non-null     object\n",
      " 2   Volume  36 non-null     int64 \n",
      " 3   Weight  36 non-null     int64 \n",
      " 4   CO2     36 non-null     int64 \n",
      "dtypes: int64(3), object(2)\n",
      "memory usage: 1.5+ KB\n"
     ]
    }
   ],
   "source": [
    "df.info()"
   ]
  },
  {
   "cell_type": "code",
   "execution_count": null,
   "metadata": {},
   "outputs": [],
   "source": []
  },
  {
   "cell_type": "code",
   "execution_count": null,
   "metadata": {},
   "outputs": [],
   "source": []
  },
  {
   "cell_type": "code",
   "execution_count": 19,
   "metadata": {},
   "outputs": [],
   "source": [
    "# linear_regression(x,y)"
   ]
  },
  {
   "cell_type": "code",
   "execution_count": 8,
   "metadata": {},
   "outputs": [
    {
     "name": "stdout",
     "output_type": "stream",
     "text": [
      "accuracy =  12.5\n"
     ]
    },
    {
     "name": "stderr",
     "output_type": "stream",
     "text": [
      "e:\\Intro to A.I Projects\\ML-Algorithms\\venv\\Lib\\site-packages\\sklearn\\utils\\validation.py:1406: DataConversionWarning: A column-vector y was passed when a 1d array was expected. Please change the shape of y to (n_samples, ), for example using ravel().\n",
      "  y = column_or_1d(y, warn=True)\n",
      "e:\\Intro to A.I Projects\\ML-Algorithms\\venv\\Lib\\site-packages\\sklearn\\linear_model\\_logistic.py:473: ConvergenceWarning: lbfgs failed to converge after 10 iteration(s) (status=1):\n",
      "STOP: TOTAL NO. OF ITERATIONS REACHED LIMIT\n",
      "\n",
      "Increase the number of iterations to improve the convergence (max_iter=10).\n",
      "You might also want to scale the data as shown in:\n",
      "    https://scikit-learn.org/stable/modules/preprocessing.html\n",
      "Please also refer to the documentation for alternative solver options:\n",
      "    https://scikit-learn.org/stable/modules/linear_model.html#logistic-regression\n",
      "  n_iter_i = _check_optimize_result(\n"
     ]
    },
    {
     "data": {
      "text/plain": [
       "(array([ 99,  99,  99, 104, 109, 109,  99,  99]), 12.5)"
      ]
     },
     "execution_count": 8,
     "metadata": {},
     "output_type": "execute_result"
    }
   ],
   "source": [
    "logistic_regression(x,y, test_size = 0.2 , random_state=100 ,no_iter = 10)"
   ]
  },
  {
   "cell_type": "code",
   "execution_count": null,
   "metadata": {},
   "outputs": [],
   "source": [
    "y"
   ]
  }
 ],
 "metadata": {
  "colab": {
   "authorship_tag": "ABX9TyOpKEFLRqC7nwzIXM7mwyqf",
   "mount_file_id": "1qYrogXg4XJgjHm1rbBA0qzDMthTmMq-V",
   "provenance": []
  },
  "kernelspec": {
   "display_name": "venv",
   "language": "python",
   "name": "python3"
  },
  "language_info": {
   "codemirror_mode": {
    "name": "ipython",
    "version": 3
   },
   "file_extension": ".py",
   "mimetype": "text/x-python",
   "name": "python",
   "nbconvert_exporter": "python",
   "pygments_lexer": "ipython3",
   "version": "3.13.5"
  }
 },
 "nbformat": 4,
 "nbformat_minor": 0
}
